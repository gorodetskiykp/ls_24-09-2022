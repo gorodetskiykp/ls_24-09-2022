{
 "cells": [
  {
   "cell_type": "markdown",
   "id": "9606af9e",
   "metadata": {},
   "source": [
    "# 24.09.2022"
   ]
  },
  {
   "cell_type": "markdown",
   "id": "567e2e28",
   "metadata": {},
   "source": [
    "## Инструменты"
   ]
  },
  {
   "cell_type": "raw",
   "id": "4147458b",
   "metadata": {},
   "source": [
    "https://replit.com - online IDE\n",
    "https://codecollab.io - collab online IDE\n",
    "https://pastebin.com - code sharing"
   ]
  },
  {
   "cell_type": "markdown",
   "id": "f3799b95",
   "metadata": {},
   "source": [
    "#### jupyter-notebook"
   ]
  },
  {
   "cell_type": "raw",
   "id": "ac1f31f2",
   "metadata": {},
   "source": [
    "pip install jupyter\n",
    "jupyter-notebook\n",
    "\n",
    "https://www.anaconda.com/"
   ]
  },
  {
   "cell_type": "markdown",
   "id": "30b986a0",
   "metadata": {},
   "source": [
    "#### ЗАДАЧИ"
   ]
  },
  {
   "cell_type": "raw",
   "id": "894fbf34",
   "metadata": {},
   "source": [
    "https://www.codewars.com\n",
    "https://py.checkio.org/\n",
    "\n",
    "https://www.cyberforum.ru/python-beginners/\n",
    "https://stackoverflow.com/questions/tagged/python?sort=Newest&edited=true"
   ]
  },
  {
   "cell_type": "code",
   "execution_count": null,
   "id": "9b6ef81d",
   "metadata": {},
   "outputs": [],
   "source": [
    "# игра про git\n",
    "https://learngitbranching.js.org/?locale=ru_RU"
   ]
  },
  {
   "cell_type": "markdown",
   "id": "372ce56a",
   "metadata": {},
   "source": [
    "# Решение задач"
   ]
  },
  {
   "cell_type": "code",
   "execution_count": 13,
   "id": "3e308587",
   "metadata": {},
   "outputs": [
    {
     "data": {
      "text/plain": [
       "'  Bi fkh B  BBB B B  B c hl BhB fd'"
      ]
     },
     "execution_count": 13,
     "metadata": {},
     "output_type": "execute_result"
    }
   ],
   "source": [
    "exclude = ' '\n",
    "\n",
    "def no_space(string):\n",
    "    result_string = ''\n",
    "    for letter in string:\n",
    "        if letter != exclude:\n",
    "            result_string += letter\n",
    "    return result_string\n",
    "\n",
    "\n",
    "def no_space(string):\n",
    "    result_list = []\n",
    "    for letter in string:\n",
    "        if letter != exclude:\n",
    "            result_list.append(letter)\n",
    "    return ''.join(result_list)\n",
    "\n",
    "\n",
    "def no_space(string):\n",
    "    return string.replace(exclude, '')\n",
    "\n",
    "\n",
    "assert no_space('8 8 Bi fk8h B 8 BB8B B B  B888 c hl8 BhB fd') == '88Bifk8hB8BB8BBBB888chl8BhBfd'\n",
    "assert no_space('8aaaaa dddd r     ') == '8aaaaaddddr'\n",
    "assert no_space('jfBm  gk lf8hg  88lbe8 ') == 'jfBmgklf8hg88lbe8'\n",
    "assert no_space('8j aam') == '8jaam'\n",
    "\n",
    "# no_space('8 8 Bi fk8h B 8 BB8B B B  B888 c hl8 BhB fd')"
   ]
  },
  {
   "cell_type": "code",
   "execution_count": 11,
   "id": "b54bd72f",
   "metadata": {
    "collapsed": true
   },
   "outputs": [
    {
     "name": "stdout",
     "output_type": "stream",
     "text": [
      "Help on method_descriptor:\n",
      "\n",
      "replace(self, old, new, count=-1, /)\n",
      "    Return a copy with all occurrences of substring old replaced by new.\n",
      "    \n",
      "      count\n",
      "        Maximum number of occurrences to replace.\n",
      "        -1 (the default value) means replace all occurrences.\n",
      "    \n",
      "    If the optional argument count is given, only the first count occurrences are\n",
      "    replaced.\n",
      "\n"
     ]
    },
    {
     "data": {
      "text/plain": [
       "'helloworldagain'"
      ]
     },
     "execution_count": 11,
     "metadata": {},
     "output_type": "execute_result"
    }
   ],
   "source": [
    "# методы\n",
    "\n",
    "dir(str)\n",
    "help(str.replace)\n",
    "\"hello world\".replace(' ', '')\n",
    "\"hello world again\".replace(' ', '')"
   ]
  },
  {
   "cell_type": "code",
   "execution_count": 17,
   "id": "e385657d",
   "metadata": {},
   "outputs": [
    {
     "name": "stdout",
     "output_type": "stream",
     "text": [
      "25\n"
     ]
    }
   ],
   "source": [
    "text = \"19+0006\"\n",
    "\n",
    "if text.find('+') > 0:\n",
    "    number1, number2 = text.split('+')\n",
    "    print(int(number1) + int(number2))\n",
    "elif text.find('-') > 0:\n",
    "    number1, number2 = text.split('-')\n",
    "    print(int(number1) - int(number2))\n",
    "\n",
    "    \n",
    "def calc(text):\n",
    "    operation_result = 0\n",
    "    if '+' in text:\n",
    "        number1, number2 = text.split('+')\n",
    "        operation_result = int(number1) + int(number2)\n",
    "    elif '-' in text:\n",
    "        number1, number2 = text.split('-')\n",
    "        operation_result = int(number1) - int(number2)\n",
    "    return operation_result"
   ]
  },
  {
   "cell_type": "code",
   "execution_count": 20,
   "id": "de8e8610",
   "metadata": {},
   "outputs": [
    {
     "name": "stdout",
     "output_type": "stream",
     "text": [
      "1\n",
      "1\n",
      "[2, 3]\n",
      "[2, 3, 4]\n"
     ]
    }
   ],
   "source": [
    "# распаковка\n",
    "a, b = [1, 2]\n",
    "print(a)\n",
    "\n",
    "a, _ = [1, 2]\n",
    "print(a)\n",
    "\n",
    "a, *b = [1, 2, 3]\n",
    "print(b)\n",
    "\n",
    "a, *b, c, d = [1, 2, 3, 4, 5, 6]\n",
    "print(b)"
   ]
  },
  {
   "cell_type": "code",
   "execution_count": 24,
   "id": "3fd129e4",
   "metadata": {},
   "outputs": [
    {
     "name": "stdout",
     "output_type": "stream",
     "text": [
      "h\n",
      "e\n",
      "l\n",
      "l\n",
      "o\n",
      "0 h\n",
      "1 e\n",
      "2 l\n",
      "3 l\n",
      "4 o\n",
      "(1, 'h')\n",
      "(2, 'e')\n",
      "(3, 'l')\n",
      "(4, 'l')\n",
      "(5, 'o')\n"
     ]
    }
   ],
   "source": [
    "text = 'hello'\n",
    "\n",
    "for letter in text:\n",
    "    print(letter)\n",
    "\n",
    "    \n",
    "for idx in range(len(text)):\n",
    "    print(idx, text[idx])\n",
    "\n",
    "for letter in enumerate(text, 1):\n",
    "    print(letter)"
   ]
  },
  {
   "cell_type": "code",
   "execution_count": null,
   "id": "aa8d23c6",
   "metadata": {},
   "outputs": [],
   "source": []
  }
 ],
 "metadata": {
  "kernelspec": {
   "display_name": "Python 3 (ipykernel)",
   "language": "python",
   "name": "python3"
  },
  "language_info": {
   "codemirror_mode": {
    "name": "ipython",
    "version": 3
   },
   "file_extension": ".py",
   "mimetype": "text/x-python",
   "name": "python",
   "nbconvert_exporter": "python",
   "pygments_lexer": "ipython3",
   "version": "3.9.13"
  }
 },
 "nbformat": 4,
 "nbformat_minor": 5
}
