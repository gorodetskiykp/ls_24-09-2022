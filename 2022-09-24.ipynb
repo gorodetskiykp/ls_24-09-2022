{
 "cells": [
  {
   "cell_type": "markdown",
   "id": "9606af9e",
   "metadata": {},
   "source": [
    "# 24.09.2022"
   ]
  },
  {
   "cell_type": "markdown",
   "id": "291e2d1f",
   "metadata": {},
   "source": [
    "## Инструменты"
   ]
  },
  {
   "cell_type": "raw",
   "id": "69d1fd48",
   "metadata": {},
   "source": [
    "https://replit.com - online IDE\n",
    "https://codecollab.io - collab online IDE\n",
    "https://pastebin.com - code sharing"
   ]
  },
  {
   "cell_type": "code",
   "execution_count": 4,
   "id": "6b38c784",
   "metadata": {},
   "outputs": [
    {
     "name": "stdout",
     "output_type": "stream",
     "text": [
      "Hello world Tom\n"
     ]
    }
   ],
   "source": [
    "print(\"Hello world\", name)"
   ]
  },
  {
   "cell_type": "code",
   "execution_count": 3,
   "id": "665d62d9",
   "metadata": {},
   "outputs": [],
   "source": [
    "name = 'Tom'"
   ]
  },
  {
   "cell_type": "code",
   "execution_count": null,
   "id": "64c827f7",
   "metadata": {},
   "outputs": [],
   "source": []
  },
  {
   "cell_type": "code",
   "execution_count": null,
   "id": "76ff9107",
   "metadata": {},
   "outputs": [],
   "source": []
  },
  {
   "cell_type": "code",
   "execution_count": null,
   "id": "da319c43",
   "metadata": {},
   "outputs": [],
   "source": []
  },
  {
   "cell_type": "code",
   "execution_count": null,
   "id": "c7833470",
   "metadata": {},
   "outputs": [],
   "source": []
  }
 ],
 "metadata": {
  "kernelspec": {
   "display_name": "Python 3 (ipykernel)",
   "language": "python",
   "name": "python3"
  },
  "language_info": {
   "codemirror_mode": {
    "name": "ipython",
    "version": 3
   },
   "file_extension": ".py",
   "mimetype": "text/x-python",
   "name": "python",
   "nbconvert_exporter": "python",
   "pygments_lexer": "ipython3",
   "version": "3.9.13"
  }
 },
 "nbformat": 4,
 "nbformat_minor": 5
}
