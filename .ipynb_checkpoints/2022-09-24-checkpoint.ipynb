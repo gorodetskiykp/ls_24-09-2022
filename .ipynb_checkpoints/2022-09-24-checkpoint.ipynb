{
 "cells": [
  {
   "cell_type": "markdown",
   "id": "9606af9e",
   "metadata": {},
   "source": [
    "# 24.09.2022"
   ]
  },
  {
   "cell_type": "markdown",
   "id": "23dcf234",
   "metadata": {},
   "source": [
    "## Инструменты"
   ]
  },
  {
   "cell_type": "raw",
   "id": "837cc981",
   "metadata": {},
   "source": [
    "https://replit.com - online IDE\n",
    "https://codecollab.io - collab online IDE\n",
    "https://pastebin.com - code sharing"
   ]
  }
 ],
 "metadata": {
  "kernelspec": {
   "display_name": "Python 3 (ipykernel)",
   "language": "python",
   "name": "python3"
  },
  "language_info": {
   "codemirror_mode": {
    "name": "ipython",
    "version": 3
   },
   "file_extension": ".py",
   "mimetype": "text/x-python",
   "name": "python",
   "nbconvert_exporter": "python",
   "pygments_lexer": "ipython3",
   "version": "3.9.13"
  }
 },
 "nbformat": 4,
 "nbformat_minor": 5
}
